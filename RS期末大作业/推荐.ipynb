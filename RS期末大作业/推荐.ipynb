{
 "cells": [
  {
   "cell_type": "code",
   "execution_count": 1,
   "metadata": {},
   "outputs": [],
   "source": [
    "import os\n",
    "import numpy as np\n",
    "import torch\n",
    "from torch import nn\n",
    "from torch.utils.data import TensorDataset, DataLoader\n",
    "from tqdm import tqdm\n",
    "import torch.optim as optim\n",
    "import matplotlib.pyplot as plt\n",
    "from sklearn.metrics import precision_score,recall_score,accuracy_score"
   ]
  },
  {
   "cell_type": "code",
   "execution_count": 2,
   "metadata": {},
   "outputs": [
    {
     "name": "stdout",
     "output_type": "stream",
     "text": [
      "6809\n"
     ]
    }
   ],
   "source": [
    "#数据集\n",
    "def getTrainAndTestSeqs(inPath, test_ratio=0.1):\n",
    "    seqs = np.load(inPath)\n",
    "\n",
    "    allItems = set()\n",
    "    for seq in seqs:\n",
    "        allItems|=set(seq[:-1])\n",
    "\n",
    "    np.random.shuffle(seqs)\n",
    "    split_number = int(len(seqs)*test_ratio)\n",
    "    test = seqs[:split_number]\n",
    "    train = seqs[split_number:]\n",
    "    return train, test, allItems\n",
    "\n",
    "train, test, allItems = getTrainAndTestSeqs('data_set/ml-latest-small/seqs.npy')\n",
    "# print(train.shape) #(39949, 7)\n",
    "print(len(allItems)) #6809"
   ]
  },
  {
   "cell_type": "code",
   "execution_count": 3,
   "metadata": {},
   "outputs": [],
   "source": [
    "#将除了第7列的内容进行转换\n",
    "#构建item2id\n",
    "item2id = {}\n",
    "for i, item in enumerate(allItems):\n",
    "    item2id[item] = i\n",
    "\n",
    "#构建id2item\n",
    "id2item = {v:k for k, v in item2id.items()}\n",
    "\n",
    "#将id转为item\n",
    "def id2itemFun(seq):\n",
    "    return [id2item[id] for id in seq]\n",
    "\n",
    "#将item转换为id\n",
    "def item2idFun(seq):\n",
    "    return [item2id[item] for item in seq]"
   ]
  },
  {
   "cell_type": "code",
   "execution_count": 4,
   "metadata": {},
   "outputs": [
    {
     "name": "stdout",
     "output_type": "stream",
     "text": [
      "[1675 2448 3747  623 3942 5964]\n",
      "1.0\n"
     ]
    }
   ],
   "source": [
    "#数据集\n",
    "#训练集\n",
    "train_x = train[:,0:6]\n",
    "train_x = np.int64(np.array([item2idFun(seq) for seq in train_x]))\n",
    "\n",
    "train_y = np.float32(train[:,6])\n",
    "\n",
    "print(train_x[0])\n",
    "print(train_y[0])"
   ]
  },
  {
   "cell_type": "code",
   "execution_count": 5,
   "metadata": {},
   "outputs": [
    {
     "name": "stdout",
     "output_type": "stream",
     "text": [
      "[ 834 6678 5974 4717 4161  768]\n",
      "1.0\n"
     ]
    }
   ],
   "source": [
    "#测试集\n",
    "test_x = test[:,0:6]\n",
    "test_x = np.int64(np.array([item2idFun(seq) for seq in test_x]))\n",
    "\n",
    "test_y = np.float32(test[:,6])\n",
    "\n",
    "print(test_x[0])\n",
    "print(test_y[0])"
   ]
  },
  {
   "cell_type": "code",
   "execution_count": 6,
   "metadata": {},
   "outputs": [],
   "source": [
    "#设置超参数\n",
    "batch_size = 128\n",
    "\n",
    "#使用dataset和dataloader包装数据集\n",
    "train_dataset = TensorDataset(torch.from_numpy(train_x), torch.from_numpy(train_y))\n",
    "test_dataset = TensorDataset(torch.from_numpy(test_x), torch.from_numpy(test_y))\n",
    "\n",
    "train_loader = DataLoader(train_dataset, batch_size=batch_size, shuffle=False, drop_last=True)\n",
    "test_loader = DataLoader(test_dataset, batch_size=batch_size, shuffle=False, drop_last=True)"
   ]
  },
  {
   "cell_type": "code",
   "execution_count": 7,
   "metadata": {},
   "outputs": [],
   "source": [
    "#模型，使用rnn，一个embedding层，一个rnn层，一个全连接层，一个relu层\n",
    "\n",
    "class Model(nn.Module):\n",
    "    def __init__(self, input_size, hidden_size, output_size):\n",
    "        super(Model, self).__init__()\n",
    "        self.hidden_size = hidden_size\n",
    "        self.embedding = nn.Embedding(input_size, hidden_size)\n",
    "        self.rnn = nn.RNN(hidden_size, hidden_size, batch_first=True)\n",
    "        self.linear = nn.Linear(hidden_size, output_size)\n",
    "        self.relu = nn.Sigmoid()\n",
    "\n",
    "    def forward(self, x, y6):\n",
    "        x = self.embedding(x)\n",
    "        out, hidden = self.rnn(x)\n",
    "        out = self.linear(out)\n",
    "        out = out[:,-1,:]\n",
    "\n",
    "        #hidden和y6点乘，再非线性激活\n",
    "        y6 = self.embedding(y6)\n",
    "        hn = torch.sum(torch.mul(hidden, y6), dim=1)\n",
    "        hn = self.relu(hn)\n",
    "        return out, hn\n",
    "\n",
    "#实例化模型\n",
    "model = Model(len(allItems), 128, len(allItems))\n",
    "\n",
    "#定义损失函数和优化器\n",
    "criterion = nn.CrossEntropyLoss()\n",
    "BCE_loss = nn.BCELoss()\n",
    "optimizer = optim.Adam(model.parameters(), lr=0.001)"
   ]
  },
  {
   "cell_type": "code",
   "execution_count": 8,
   "metadata": {},
   "outputs": [
    {
     "name": "stdout",
     "output_type": "stream",
     "text": [
      "epoch:1, loss:5.3663, c_loss:8.3403, b_loss:2.3922\n",
      "epoch:2, loss:4.4886, c_loss:7.6078, b_loss:1.3695\n",
      "epoch:3, loss:4.0885, c_loss:7.2990, b_loss:0.8779\n",
      "epoch:4, loss:3.7835, c_loss:6.9863, b_loss:0.5806\n",
      "epoch:5, loss:3.5035, c_loss:6.6392, b_loss:0.3678\n",
      "epoch:6, loss:3.2428, c_loss:6.2621, b_loss:0.2235\n",
      "epoch:7, loss:3.0020, c_loss:5.8669, b_loss:0.1371\n",
      "epoch:8, loss:2.7818, c_loss:5.4684, b_loss:0.0953\n",
      "epoch:9, loss:2.5818, c_loss:5.0874, b_loss:0.0762\n",
      "epoch:10, loss:2.4023, c_loss:4.7380, b_loss:0.0666\n"
     ]
    },
    {
     "data": {
      "image/png": "[encoded data removed]",
      "text/plain": [
       "<Figure size 640x480 with 1 Axes>"
      ]
     },
     "metadata": {},
     "output_type": "display_data"
    }
   ],
   "source": [
    "#训练模型\n",
    "epochs = 10\n",
    "all_loss = []\n",
    "c_loss = []\n",
    "b_loss = []\n",
    "for epoch in range(epochs):\n",
    "    mall_loss = 0\n",
    "    mc_loss = 0\n",
    "    mb_loss = 0\n",
    "    for i, (x, y) in enumerate(train_loader):\n",
    "        y6 = x[:,-1]\n",
    "        x = x[:,:-1]\n",
    "\n",
    "        #前向传播\n",
    "        out, hn = model(x, y6)\n",
    "\n",
    "        #计算损失\n",
    "        loss1 = criterion(out, y6)\n",
    "        mc_loss += loss1.item()\n",
    "\n",
    "        loss2 = BCE_loss(hn, y.view(1,-1).float())\n",
    "        mb_loss += loss2.item()\n",
    "        loss = loss1*0.5 + loss2*0.5\n",
    "        mall_loss += loss.item()\n",
    "\n",
    "        #反向传播\n",
    "        optimizer.zero_grad()\n",
    "        loss.backward()\n",
    "        optimizer.step()\n",
    "\n",
    "    all_loss.append(mall_loss/(i+1))\n",
    "    c_loss.append(mc_loss/(i+1))\n",
    "    b_loss.append(mb_loss/(i+1))\n",
    "    print('epoch:{}, loss:{:.4f}, c_loss:{:.4f}, b_loss:{:.4f}'.format(epoch+1, all_loss[-1], c_loss[-1], b_loss[-1]))\n",
    "\n",
    "#绘制损失函数图像\n",
    "plt.plot(all_loss, label='all_loss')\n",
    "plt.plot(c_loss, label='c_loss')\n",
    "plt.plot(b_loss, label='b_loss')\n",
    "plt.legend()\n",
    "plt.show()        "
   ]
  },
  {
   "cell_type": "code",
   "execution_count": 9,
   "metadata": {},
   "outputs": [],
   "source": [
    "def doEva(y_true, y_pred):\n",
    "    #评估模型\n",
    "    p = precision_score(y_true, y_pred)\n",
    "    r = recall_score(y_true, y_pred)\n",
    "    acc = accuracy_score(y_true,y_pred)\n",
    "    return p,r,acc"
   ]
  },
  {
   "cell_type": "code",
   "execution_count": 10,
   "metadata": {},
   "outputs": [
    {
     "name": "stderr",
     "output_type": "stream",
     "text": [
      "100%|██████████| 34/34 [00:01<00:00, 25.48it/s]"
     ]
    },
    {
     "name": "stdout",
     "output_type": "stream",
     "text": [
      "recall is 0.5486501103640262, Pre is 0.6408763420953203, ACC is 0.51953125\n"
     ]
    },
    {
     "name": "stderr",
     "output_type": "stream",
     "text": [
      "\n"
     ]
    }
   ],
   "source": [
    "model.eval()\n",
    "with torch.no_grad():\n",
    "    totalrec = 0\n",
    "    totalpre = 0\n",
    "    totalacc = 0\n",
    "    for x, y in tqdm(test_loader):\n",
    "        y6 = x[:,-1]\n",
    "        x = x[:,:-1]\n",
    "\n",
    "\n",
    "        #前向传播\n",
    "        output, hn = model(x, y6)\n",
    "        #将hn的值转为0或1\n",
    "        hn = hn.view(-1)\n",
    "        hn[hn >= 0.5] = 1.\n",
    "        hn[hn < 0.5] = 0.\n",
    "        \n",
    "        p, r, acc = doEva(y, hn.view(-1))\n",
    "        totalrec+=r\n",
    "        totalpre+=p\n",
    "        totalacc+=acc\n",
    "\n",
    "n = len(test_loader)\n",
    "print(f\"recall is {totalrec / n}, Pre is {totalpre / n}, ACC is {totalacc / n}\")"
   ]
  }
 ],
 "metadata": {
  "kernelspec": {
   "display_name": "Finallywork",
   "language": "python",
   "name": "python3"
  },
  "language_info": {
   "codemirror_mode": {
    "name": "ipython",
    "version": 3
   },
   "file_extension": ".py",
   "mimetype": "text/x-python",
   "name": "python",
   "nbconvert_exporter": "python",
   "pygments_lexer": "ipython3",
   "version": "3.11.3"
  },
  "orig_nbformat": 4
 },
 "nbformat": 4,
 "nbformat_minor": 2
}
