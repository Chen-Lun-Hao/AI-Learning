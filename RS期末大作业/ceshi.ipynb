{
 "cells": [
  {
   "cell_type": "code",
   "execution_count": 12,
   "metadata": {},
   "outputs": [
    {
     "name": "stdout",
     "output_type": "stream",
     "text": [
      "最低分： 10\n",
      "最高分： 19\n",
      "平均分： 14.333333333333334\n"
     ]
    }
   ],
   "source": [
    "#随机产生55个范围在5到18的数字，给出最低分，最高分，平均分，及格人数，不及格人数\n",
    "import random\n",
    "score = []\n",
    "for i in range(42):\n",
    "    score.append(random.randint(10,19))\n",
    "# print(score)\n",
    "print(\"最低分：\",min(score))\n",
    "print(\"最高分：\",max(score))\n",
    "print(\"平均分：\",sum(score)/len(score))"
   ]
  }
 ],
 "metadata": {
  "kernelspec": {
   "display_name": "Finallywork",
   "language": "python",
   "name": "python3"
  },
  "language_info": {
   "codemirror_mode": {
    "name": "ipython",
    "version": 3
   },
   "file_extension": ".py",
   "mimetype": "text/x-python",
   "name": "python",
   "nbconvert_exporter": "python",
   "pygments_lexer": "ipython3",
   "version": "3.11.3"
  },
  "orig_nbformat": 4
 },
 "nbformat": 4,
 "nbformat_minor": 2
}
